{
 "cells": [
  {
   "cell_type": "code",
   "execution_count": 3,
   "id": "5f5d92d3-5dec-4e15-9ae0-c78d86b033af",
   "metadata": {},
   "outputs": [
    {
     "name": "stdout",
     "output_type": "stream",
     "text": [
      "1\n",
      "2\n",
      "3\n",
      "4\n",
      "5\n",
      "6\n",
      "7\n",
      "8\n",
      "9\n",
      "10\n"
     ]
    }
   ],
   "source": [
    "a= 1\n",
    "while a <= 10 :\n",
    "    print(a)\n",
    "    a = a +1"
   ]
  },
  {
   "cell_type": "code",
   "execution_count": 4,
   "id": "a2bffceb-642f-47c5-a253-155c0381a0f1",
   "metadata": {},
   "outputs": [],
   "source": [
    "#sum of the number till suome point "
   ]
  },
  {
   "cell_type": "code",
   "execution_count": 5,
   "id": "1a291b08-14c2-4085-8065-e81df6c39374",
   "metadata": {},
   "outputs": [
    {
     "name": "stdin",
     "output_type": "stream",
     "text": [
      "enter your limit 5\n"
     ]
    },
    {
     "data": {
      "text/plain": [
       "15"
      ]
     },
     "execution_count": 5,
     "metadata": {},
     "output_type": "execute_result"
    }
   ],
   "source": [
    "n = int (input (\"enter your limit\"))\n",
    "starting_point = 0 \n",
    "counter =1 \n",
    "while counter <= n :\n",
    "    starting_point = starting_point + counter \n",
    "    counter = counter +1 \n",
    "starting_point "
   ]
  },
  {
   "cell_type": "code",
   "execution_count": 6,
   "id": "9e28ccd0-abc1-4e6f-a345-196bb572d820",
   "metadata": {},
   "outputs": [
    {
     "name": "stdin",
     "output_type": "stream",
     "text": [
      "enter your limit 50\n"
     ]
    },
    {
     "data": {
      "text/plain": [
       "1275"
      ]
     },
     "execution_count": 6,
     "metadata": {},
     "output_type": "execute_result"
    }
   ],
   "source": [
    "n = int (input (\"enter your limit\"))\n",
    "starting_point = 0 \n",
    "counter =1 \n",
    "while counter <= n :\n",
    "    starting_point = starting_point + counter \n",
    "    counter = counter +1 \n",
    "starting_point "
   ]
  },
  {
   "cell_type": "code",
   "execution_count": 7,
   "id": "ea89e046-c166-4471-9855-601466d95d12",
   "metadata": {},
   "outputs": [
    {
     "name": "stdin",
     "output_type": "stream",
     "text": [
      "enter your limit 100\n"
     ]
    },
    {
     "data": {
      "text/plain": [
       "5050"
      ]
     },
     "execution_count": 7,
     "metadata": {},
     "output_type": "execute_result"
    }
   ],
   "source": [
    "n = int (input (\"enter your limit\"))\n",
    "starting_point = 0 \n",
    "counter =1 \n",
    "while counter <= n :\n",
    "    starting_point = starting_point + counter \n",
    "    counter = counter +1 \n",
    "starting_point "
   ]
  },
  {
   "cell_type": "code",
   "execution_count": 8,
   "id": "b757aa4a-77ca-4aa3-ac40-614b97c401ae",
   "metadata": {},
   "outputs": [
    {
     "name": "stdin",
     "output_type": "stream",
     "text": [
      "enter your limit 10\n"
     ]
    },
    {
     "data": {
      "text/plain": [
       "55"
      ]
     },
     "execution_count": 8,
     "metadata": {},
     "output_type": "execute_result"
    }
   ],
   "source": [
    "n = int (input (\"enter your limit\"))\n",
    "starting_point = 0 \n",
    "counter =1 \n",
    "while counter <= n :\n",
    "    starting_point = starting_point + counter \n",
    "    counter = counter +1 \n",
    "starting_point "
   ]
  },
  {
   "cell_type": "code",
   "execution_count": 9,
   "id": "7fdc9da0-6394-4022-8171-9dfd302e16ed",
   "metadata": {},
   "outputs": [
    {
     "name": "stdin",
     "output_type": "stream",
     "text": [
      "enter your number 3\n"
     ]
    },
    {
     "data": {
      "text/plain": [
       "6"
      ]
     },
     "execution_count": 9,
     "metadata": {},
     "output_type": "execute_result"
    }
   ],
   "source": [
    "number = int (input (\"enter your number\"))\n",
    "factorial = 1\n",
    "while number >0 :\n",
    "    factorial = factorial * number \n",
    "    number = number -1\n",
    "factorial"
   ]
  },
  {
   "cell_type": "code",
   "execution_count": 10,
   "id": "2a5d4ec0-424f-4e02-97eb-c1ff2afbd53c",
   "metadata": {},
   "outputs": [
    {
     "name": "stdin",
     "output_type": "stream",
     "text": [
      "enter your number 5\n"
     ]
    },
    {
     "data": {
      "text/plain": [
       "120"
      ]
     },
     "execution_count": 10,
     "metadata": {},
     "output_type": "execute_result"
    }
   ],
   "source": [
    "number = int (input (\"enter your number\"))\n",
    "factorial = 1\n",
    "while number >0 :\n",
    "    factorial = factorial * number \n",
    "    number = number -1\n",
    "factorial"
   ]
  },
  {
   "cell_type": "code",
   "execution_count": 1,
   "id": "0eef7a6c-3f04-43e8-b0bc-a5f8577dc1b6",
   "metadata": {},
   "outputs": [],
   "source": [
    "#finonacci series"
   ]
  },
  {
   "cell_type": "code",
   "execution_count": 3,
   "id": "9ba7695c-34c0-4526-a9ba-603eb2495181",
   "metadata": {},
   "outputs": [
    {
     "name": "stdin",
     "output_type": "stream",
     "text": [
      "enter the number of element you are looking for 10\n"
     ]
    },
    {
     "name": "stdout",
     "output_type": "stream",
     "text": [
      "0\n",
      "1\n",
      "1\n",
      "2\n",
      "3\n",
      "5\n",
      "8\n",
      "13\n",
      "21\n",
      "34\n"
     ]
    }
   ],
   "source": [
    "number = int (input(\"enter the number of element you are looking for\"))\n",
    "a , b =0, 1\n",
    "counter = 0\n",
    "while counter < number : \n",
    "    print (a)\n",
    "    c= a+b\n",
    "    a=b \n",
    "    b=c\n",
    "    counter = counter  +1\n",
    "    "
   ]
  },
  {
   "cell_type": "code",
   "execution_count": 4,
   "id": "87167e2e-7fd8-4986-9a0d-387c89116159",
   "metadata": {},
   "outputs": [],
   "source": [
    "#for loop \n"
   ]
  },
  {
   "cell_type": "code",
   "execution_count": 10,
   "id": "4ac26919-2a7f-49b7-b741-446d94fe041b",
   "metadata": {},
   "outputs": [
    {
     "name": "stdout",
     "output_type": "stream",
     "text": [
      "0\n",
      "1\n",
      "1\n",
      "2\n",
      "3\n",
      "5\n",
      "8\n",
      "13\n",
      "21\n",
      "34\n"
     ]
    }
   ],
   "source": [
    "a,b = 0, 1\n",
    "for i  in range (10):\n",
    "    print (a)\n",
    "    c=a+b\n",
    "    a=b\n",
    "    b=c"
   ]
  },
  {
   "cell_type": "code",
   "execution_count": 11,
   "id": "026ddb90-0536-4284-8ff4-70b4fc4c1788",
   "metadata": {},
   "outputs": [],
   "source": [
    "s = \"sudh\""
   ]
  },
  {
   "cell_type": "code",
   "execution_count": 12,
   "id": "7c4c5688-649b-49a2-9abc-4082288afeea",
   "metadata": {},
   "outputs": [
    {
     "data": {
      "text/plain": [
       "'hdus'"
      ]
     },
     "execution_count": 12,
     "metadata": {},
     "output_type": "execute_result"
    }
   ],
   "source": [
    "s[::-1]"
   ]
  },
  {
   "cell_type": "code",
   "execution_count": 13,
   "id": "8b434c3a-99a2-4937-808e-f70e16e67ee9",
   "metadata": {},
   "outputs": [
    {
     "name": "stdin",
     "output_type": "stream",
     "text": [
      "enter your string for reversal sudh\n"
     ]
    }
   ],
   "source": [
    "word = input (\"enter your string for reversal\")"
   ]
  },
  {
   "cell_type": "code",
   "execution_count": 14,
   "id": "d728266e-7e45-4b21-a9d7-7d4c945ac4d4",
   "metadata": {},
   "outputs": [
    {
     "name": "stdout",
     "output_type": "stream",
     "text": [
      "hdus\n"
     ]
    }
   ],
   "source": [
    "reverse =''\n",
    "length = len(word)\n",
    "while length >0 :\n",
    "    reverse = reverse + word [length -1]\n",
    "    length = length -1\n",
    "print (reverse)"
   ]
  },
  {
   "cell_type": "code",
   "execution_count": 15,
   "id": "4da71f24-4eb2-4594-a5ee-8bf0246ac5f2",
   "metadata": {},
   "outputs": [],
   "source": [
    "#print table of number "
   ]
  },
  {
   "cell_type": "code",
   "execution_count": 16,
   "id": "82d56a6e-c622-4adb-b09f-d3b9eaae98fc",
   "metadata": {},
   "outputs": [
    {
     "name": "stdin",
     "output_type": "stream",
     "text": [
      "enter your number 2\n"
     ]
    },
    {
     "name": "stdout",
     "output_type": "stream",
     "text": [
      "2 * 1 = 2\n",
      "2 * 2 = 2\n",
      "2 * 3 = 2\n",
      "2 * 4 = 2\n",
      "2 * 5 = 2\n",
      "2 * 6 = 2\n",
      "2 * 7 = 2\n",
      "2 * 8 = 2\n",
      "2 * 9 = 2\n",
      "2 * 10 = 2\n",
      "2 * 11 = 2\n",
      "2 * 12 = 2\n",
      "2 * 13 = 2\n",
      "2 * 14 = 2\n",
      "2 * 15 = 2\n",
      "2 * 16 = 2\n",
      "2 * 17 = 2\n",
      "2 * 18 = 2\n",
      "2 * 19 = 2\n",
      "2 * 20 = 2\n"
     ]
    }
   ],
   "source": [
    "n= int (input (\"enter your number\"))\n",
    "i = 1\n",
    "while i <= 20:\n",
    "    result = n*1\n",
    "    print(n, \"*\" , i , \"=\" , result )\n",
    "    i = i +1\n"
   ]
  },
  {
   "cell_type": "code",
   "execution_count": 2,
   "id": "5b5e95fb-0395-4497-9975-aa41efa2052f",
   "metadata": {},
   "outputs": [
    {
     "name": "stdin",
     "output_type": "stream",
     "text": [
      "enter your number 10\n"
     ]
    },
    {
     "name": "stdout",
     "output_type": "stream",
     "text": [
      "10 * 1 = 10\n",
      "10 * 2 = 20\n",
      "10 * 3 = 30\n",
      "10 * 4 = 40\n",
      "10 * 5 = 50\n",
      "10 * 6 = 60\n",
      "10 * 7 = 70\n",
      "10 * 8 = 80\n",
      "10 * 9 = 90\n",
      "10 * 10 = 100\n"
     ]
    }
   ],
   "source": [
    "n=int (input(\"enter your number\"))\n",
    "i =1\n",
    "while i <= 10:\n",
    "    result = n*i \n",
    "    print (n , \"*\", i ,\"=\" , result)\n",
    "    i=i+1"
   ]
  },
  {
   "cell_type": "code",
   "execution_count": 3,
   "id": "8709b0e1-5611-426b-a045-1cd78fe4cc14",
   "metadata": {},
   "outputs": [
    {
     "name": "stdin",
     "output_type": "stream",
     "text": [
      "enter your number 100\n"
     ]
    },
    {
     "name": "stdout",
     "output_type": "stream",
     "text": [
      "100 * 1 = 100\n",
      "100 * 2 = 200\n",
      "100 * 3 = 300\n",
      "100 * 4 = 400\n",
      "100 * 5 = 500\n",
      "100 * 6 = 600\n",
      "100 * 7 = 700\n",
      "100 * 8 = 800\n",
      "100 * 9 = 900\n",
      "100 * 10 = 1000\n"
     ]
    }
   ],
   "source": [
    "n=int (input(\"enter your number\"))\n",
    "i =1\n",
    "while i <= 10:\n",
    "    result = n*i \n",
    "    print (n , \"*\", i ,\"=\" , result)\n",
    "    i=i+1\n",
    "    "
   ]
  },
  {
   "cell_type": "code",
   "execution_count": 4,
   "id": "fa123275-e703-4127-9d6c-436b1801d744",
   "metadata": {},
   "outputs": [
    {
     "name": "stdout",
     "output_type": "stream",
     "text": [
      "1\n",
      "2\n",
      "3\n",
      "4\n"
     ]
    }
   ],
   "source": [
    "n , i = 5 ,1 \n",
    "while i < n :\n",
    "    print (i)\n",
    "    i = i+1"
   ]
  },
  {
   "cell_type": "code",
   "execution_count": 5,
   "id": "8568dbd5-0442-462a-85e3-f83a3eeeabe3",
   "metadata": {},
   "outputs": [
    {
     "name": "stdout",
     "output_type": "stream",
     "text": [
      "1\n",
      "2\n",
      "3\n",
      "4\n",
      "this will be execute once your while will complete it successfully\n"
     ]
    }
   ],
   "source": [
    "n , i = 5 ,1 \n",
    "while i < n :\n",
    "    print (i)\n",
    "    i = i+1\n",
    "else :\n",
    "    print(\"this will be execute once your while will complete it successfully\")"
   ]
  },
  {
   "cell_type": "code",
   "execution_count": 7,
   "id": "df050058-baae-43b7-bb12-c90edecb2a0a",
   "metadata": {},
   "outputs": [
    {
     "name": "stdout",
     "output_type": "stream",
     "text": [
      "1\n",
      "2\n",
      "3\n"
     ]
    }
   ],
   "source": [
    "n , i = 5 ,1 \n",
    "while i < n :\n",
    "    print (i)\n",
    "    if i == 3:\n",
    "        break\n",
    "    i = i+1\n",
    "else :\n",
    "    print(\"this will be execute once your while will complete it successfully\")"
   ]
  },
  {
   "cell_type": "code",
   "execution_count": null,
   "id": "4346a714-55da-4708-a40e-482ac8614d4a",
   "metadata": {},
   "outputs": [],
   "source": []
  }
 ],
 "metadata": {
  "kernelspec": {
   "display_name": "Python 3 (ipykernel)",
   "language": "python",
   "name": "python3"
  },
  "language_info": {
   "codemirror_mode": {
    "name": "ipython",
    "version": 3
   },
   "file_extension": ".py",
   "mimetype": "text/x-python",
   "name": "python",
   "nbconvert_exporter": "python",
   "pygments_lexer": "ipython3",
   "version": "3.10.8"
  }
 },
 "nbformat": 4,
 "nbformat_minor": 5
}
